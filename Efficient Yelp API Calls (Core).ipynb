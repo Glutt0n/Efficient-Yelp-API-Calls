{
 "cells": [
  {
   "cell_type": "markdown",
   "id": "c06d505d",
   "metadata": {},
   "source": [
    "\n",
    "### 1. use the Yelp API to search your favorite city for a cuisine type of your choice.\n",
    "\n",
    "### 2. Extract all of the results from your search and compile them into one dataframe using a for loop as shown in the lesson \"Code for Efficient API Extraction\""
   ]
  },
  {
   "cell_type": "code",
   "execution_count": 1,
   "id": "d6b66e3d",
   "metadata": {},
   "outputs": [],
   "source": [
    "# Imports\n",
    "# Standard Imports\n",
    "import numpy as np\n",
    "import pandas as pd\n",
    "import matplotlib.pyplot as plt\n",
    "import seaborn as sns\n",
    "# Additional Imports\n",
    "import os, json, math, time\n",
    "from yelpapi import YelpAPI\n",
    "from tqdm.notebook import tqdm_notebook"
   ]
  },
  {
   "cell_type": "code",
   "execution_count": 2,
   "id": "944fb9f9",
   "metadata": {},
   "outputs": [],
   "source": [
    "# Functions\n",
    "def create_json_file(JSON_FILE,  delete_if_exists=False):\n",
    "\n",
    "    ## Check if JSON_FILE exists\n",
    "    file_exists = os.path.isfile(JSON_FILE)\n",
    "\n",
    "    ## If it DOES exist:\n",
    "    if file_exists == True:\n",
    "\n",
    "        ## Check if user wants to delete if exists\n",
    "        if delete_if_exists==True:\n",
    "\n",
    "            print(f\"[!] {JSON_FILE} already exists. Deleting previous file...\")\n",
    "            ## delete file and confirm it no longer exits.\n",
    "            os.remove(JSON_FILE)\n",
    "            ## Recursive call to function after old file deleted\n",
    "            create_json_file(JSON_FILE,delete_if_exists=False)\n",
    "        else:\n",
    "            print(f\"[i] {JSON_FILE} already exists.\")            \n",
    "\n",
    "\n",
    "    ## If it does NOT exist:\n",
    "    else:\n",
    "\n",
    "        ## INFORM USER AND SAVE EMPTY LIST\n",
    "        print(f\"[i] {JSON_FILE} not found. Saving empty list to new file.\")\n",
    "\n",
    "        ## CREATE ANY NEEDED FOLDERS\n",
    "        # Get the Folder Name only\n",
    "        folder = os.path.dirname(JSON_FILE)\n",
    "\n",
    "        ## If JSON_FILE included a folder:\n",
    "        if len(folder)>0:\n",
    "            # create the folder\n",
    "            os.makedirs(folder,exist_ok=True)\n",
    "        ## Save empty list to start the json file\n",
    "        with open(JSON_FILE,'w') as f:\n",
    "            json.dump([],f)  \n",
    "\n"
   ]
  },
  {
   "cell_type": "markdown",
   "id": "078c2ce0",
   "metadata": {},
   "source": [
    "### 1. use the Yelp API to search your favorite city for a cuisine type of your choice."
   ]
  },
  {
   "cell_type": "code",
   "execution_count": 3,
   "id": "342bbc8b",
   "metadata": {},
   "outputs": [],
   "source": [
    "## Yelp Credentials/Accessing the Yelp API\n",
    "# API Credentials\n",
    "with open('/Users/Oliver/.secret/yelp_api.json') as f:   \n",
    "    login = json.load(f)\n",
    "    \n",
    "# Instantiating YelpAPI \n",
    "yelp_api = YelpAPI(login['api-key'], timeout_s=5.0)"
   ]
  },
  {
   "cell_type": "code",
   "execution_count": 4,
   "id": "49c1c26a",
   "metadata": {},
   "outputs": [],
   "source": [
    "# setting API call parameters\n",
    "LOCATION='Winter Springs, FL'\n",
    "TERM='Burgers'"
   ]
  },
  {
   "cell_type": "code",
   "execution_count": 5,
   "id": "c06a9c9c",
   "metadata": {},
   "outputs": [
    {
     "data": {
      "text/plain": [
       "'Data/results_in_progress_FL_pizza.json'"
      ]
     },
     "execution_count": 5,
     "metadata": {},
     "output_type": "execute_result"
    }
   ],
   "source": [
    "## Creating results-in-progress json file\n",
    "# Specifying filename\n",
    "JSON_FILE= \"Data/results_in_progress_FL_pizza.json\"\n",
    "JSON_FILE"
   ]
  },
  {
   "cell_type": "code",
   "execution_count": 6,
   "id": "00ad3cc9",
   "metadata": {},
   "outputs": [
    {
     "name": "stdout",
     "output_type": "stream",
     "text": [
      "[i] Data/results_in_progress_FL_pizza.json not found. Saving empty list to file.\n"
     ]
    }
   ],
   "source": [
    "## Check if our JSON_FILE exists\n",
    "file_exists = os.path.isfile(JSON_FILE)\n",
    "## If it does not exist: \n",
    "if file_exists == False:\n",
    "    \n",
    "    ## CREATE ANY NEEDED FOLDERS\n",
    "    # Get the Folder Name only\n",
    "    folder = os.path.dirname(JSON_FILE)\n",
    "    ## If JSON_FILE included a folder:\n",
    "    if len(folder)>0:\n",
    "        # create the folder\n",
    "        os.makedirs(folder,exist_ok=True)\n",
    "        \n",
    "        \n",
    "    ## INFORM USER AND SAVE EMPTY LIST\n",
    "    print(f'[i] {JSON_FILE} not found. Saving empty list to file.')\n",
    "    \n",
    "    \n",
    "    # save an empty list\n",
    "    with open(JSON_FILE,'w') as f:\n",
    "        json.dump([],f)  \n",
    "# If it exists, inform user\n",
    "else:\n",
    "    print(f\"[i] {JSON_FILE} already exists.\")"
   ]
  },
  {
   "cell_type": "code",
   "execution_count": 7,
   "id": "40b92adb",
   "metadata": {},
   "outputs": [
    {
     "name": "stdout",
     "output_type": "stream",
     "text": [
      "- 0 previous results found.\n"
     ]
    }
   ],
   "source": [
    "## Load previous results and use len of results for offset\n",
    "with open(JSON_FILE,'r') as f:\n",
    "    previous_results = json.load(f)\n",
    "    \n",
    "## set offset based on previous results\n",
    "n_results = len(previous_results)\n",
    "print(f'- {n_results} previous results found.')\n",
    "\n"
   ]
  },
  {
   "cell_type": "code",
   "execution_count": 8,
   "id": "430df5d9",
   "metadata": {},
   "outputs": [
    {
     "data": {
      "text/plain": [
       "dict_keys(['businesses', 'total', 'region'])"
      ]
     },
     "execution_count": 8,
     "metadata": {},
     "output_type": "execute_result"
    }
   ],
   "source": [
    "# Determining how many pages of results is needed\n",
    "results=yelp_api.search_query(location=LOCATION,\n",
    "                             term=TERM,\n",
    "                             offset=n_results)\n",
    "results.keys()"
   ]
  },
  {
   "cell_type": "code",
   "execution_count": 9,
   "id": "66132566",
   "metadata": {},
   "outputs": [
    {
     "data": {
      "text/plain": [
       "874"
      ]
     },
     "execution_count": 9,
     "metadata": {},
     "output_type": "execute_result"
    }
   ],
   "source": [
    "## How many results total?\n",
    "total_results = results['total']\n",
    "total_results"
   ]
  },
  {
   "cell_type": "code",
   "execution_count": 10,
   "id": "5ea4fe6c",
   "metadata": {},
   "outputs": [
    {
     "data": {
      "text/plain": [
       "20"
      ]
     },
     "execution_count": 10,
     "metadata": {},
     "output_type": "execute_result"
    }
   ],
   "source": [
    "## How many did we get the details for?\n",
    "results_per_page = len(results['businesses'])\n",
    "results_per_page"
   ]
  },
  {
   "cell_type": "code",
   "execution_count": 12,
   "id": "a7661b6d",
   "metadata": {},
   "outputs": [],
   "source": [
    "# join new results with old list with extend and save to file\n",
    "previous_results.extend(results['businesses'])  \n",
    "with open(JSON_FILE,'w') as f:\n",
    "     json.dump(previous_results,f)"
   ]
  },
  {
   "cell_type": "code",
   "execution_count": null,
   "id": "4896f227",
   "metadata": {},
   "outputs": [],
   "source": [
    "# Adding progress bar in our for loop\n",
    "for i in tqdm_notebook(range(n_pages)):\n",
    "    # adds 200 ms pause\n",
    "    time.sleep(.2) "
   ]
  },
  {
   "cell_type": "code",
   "execution_count": 14,
   "id": "98aca658",
   "metadata": {
    "scrolled": true
   },
   "outputs": [
    {
     "name": "stdout",
     "output_type": "stream",
     "text": [
      "[!] Data/results_in_progress_FL_pizza.json already exists. Deleting previous file...\n",
      "[i] Data/results_in_progress_FL_pizza.json not found. Saving empty list to new file.\n",
      "- 0 previous results found.\n",
      "Total number results: 874\n",
      "Total number of pages: 44\n"
     ]
    }
   ],
   "source": [
    "## For Loop to call each page\n",
    "## Create a new empty json file (exist the previous if it exists)\n",
    "create_json_file(JSON_FILE, delete_if_exists=True)\n",
    "## Load previous results and use len of results for offset\n",
    "with open(JSON_FILE,'r') as f:\n",
    "    previous_results = json.load(f)\n",
    "    \n",
    "## set offset based on previous results\n",
    "n_results = len(previous_results)\n",
    "print(f'- {n_results} previous results found.')\n",
    "# use our yelp_api variable's search_query method to perform our API call\n",
    "results = yelp_api.search_query(location=LOCATION,\n",
    "                                term=TERM,\n",
    "                               offset=n_results)\n",
    "## How many results total?\n",
    "total_results = results['total']\n",
    "## How many did we get the details for?\n",
    "results_per_page = len(results['businesses'])\n",
    "# Use math.ceil to round up for the total number of pages of results.\n",
    "n_pages = math.ceil((results['total']-n_results)/ results_per_page)\n",
    "\n",
    "print(f'Total number results: {total_results}')\n",
    "print(f'Total number of pages: {n_pages}')"
   ]
  },
  {
   "cell_type": "markdown",
   "id": "e53c37f7",
   "metadata": {},
   "source": [
    "### 2. Extract all of the results from your search and compile them into one dataframe\n"
   ]
  },
  {
   "cell_type": "code",
   "execution_count": 16,
   "id": "bb367d4e",
   "metadata": {},
   "outputs": [
    {
     "data": {
      "application/vnd.jupyter.widget-view+json": {
       "model_id": "f79e2a6e49fc434fb149b8df8d099eeb",
       "version_major": 2,
       "version_minor": 0
      },
      "text/plain": [
       "  0%|          | 0/44 [00:00<?, ?it/s]"
      ]
     },
     "metadata": {},
     "output_type": "display_data"
    }
   ],
   "source": [
    "for i in tqdm_notebook( range(1,n_pages+1)):\n",
    "    \n",
    "    ## Read in results in progress file and check the length\n",
    "    with open(JSON_FILE, 'r') as f:\n",
    "        previous_results = json.load(f)\n",
    "    ## save number of results for to use as offset\n",
    "    n_results = len(previous_results)\n",
    "    \n",
    "    if (n_results + results_per_page) > 1000:\n",
    "        print('Exceeded 1000 api calls. Stopping loop.')\n",
    "        break\n",
    "    \n",
    "    ## use n_results as the OFFSET \n",
    "    results = yelp_api.search_query(location=LOCATION,\n",
    "                                    term=TERM, \n",
    "                                    offset=n_results)\n",
    "    \n",
    "    \n",
    "    \n",
    "    ## append new results and save to file\n",
    "    previous_results.extend(results['businesses'])\n",
    "    \n",
    "    # display(previous_results)\n",
    "    with open(JSON_FILE,'w') as f:\n",
    "        json.dump(previous_results,f)\n",
    "    \n",
    "    time.sleep(.2)"
   ]
  },
  {
   "cell_type": "code",
   "execution_count": 17,
   "id": "fe23f764",
   "metadata": {
    "scrolled": true
   },
   "outputs": [
    {
     "data": {
      "text/html": [
       "<div>\n",
       "<style scoped>\n",
       "    .dataframe tbody tr th:only-of-type {\n",
       "        vertical-align: middle;\n",
       "    }\n",
       "\n",
       "    .dataframe tbody tr th {\n",
       "        vertical-align: top;\n",
       "    }\n",
       "\n",
       "    .dataframe thead th {\n",
       "        text-align: right;\n",
       "    }\n",
       "</style>\n",
       "<table border=\"1\" class=\"dataframe\">\n",
       "  <thead>\n",
       "    <tr style=\"text-align: right;\">\n",
       "      <th></th>\n",
       "      <th>id</th>\n",
       "      <th>alias</th>\n",
       "      <th>name</th>\n",
       "      <th>image_url</th>\n",
       "      <th>is_closed</th>\n",
       "      <th>url</th>\n",
       "      <th>review_count</th>\n",
       "      <th>categories</th>\n",
       "      <th>rating</th>\n",
       "      <th>coordinates</th>\n",
       "      <th>transactions</th>\n",
       "      <th>price</th>\n",
       "      <th>location</th>\n",
       "      <th>phone</th>\n",
       "      <th>display_phone</th>\n",
       "      <th>distance</th>\n",
       "    </tr>\n",
       "  </thead>\n",
       "  <tbody>\n",
       "    <tr>\n",
       "      <th>0</th>\n",
       "      <td>6vtuq0T_Hlq6qsCWIpOpuQ</td>\n",
       "      <td>red-eyes-git-n-messy-smokehouse-and-tavern-win...</td>\n",
       "      <td>Red-Eye's Git N Messy Smokehouse &amp; Tavern</td>\n",
       "      <td>https://s3-media1.fl.yelpcdn.com/bphoto/Ql2pSk...</td>\n",
       "      <td>False</td>\n",
       "      <td>https://www.yelp.com/biz/red-eyes-git-n-messy-...</td>\n",
       "      <td>158</td>\n",
       "      <td>[{'alias': 'sportsbars', 'title': 'Sports Bars...</td>\n",
       "      <td>4.5</td>\n",
       "      <td>{'latitude': 28.7031155136773, 'longitude': -8...</td>\n",
       "      <td>[pickup, delivery]</td>\n",
       "      <td>$$</td>\n",
       "      <td>{'address1': '855 E State Rd 434', 'address2':...</td>\n",
       "      <td>+14075427728</td>\n",
       "      <td>(407) 542-7728</td>\n",
       "      <td>1101.632324</td>\n",
       "    </tr>\n",
       "    <tr>\n",
       "      <th>1</th>\n",
       "      <td>xGeQSE9PpMCi1BRaXEHnsQ</td>\n",
       "      <td>general-public-house-winter-springs-2</td>\n",
       "      <td>General Public House</td>\n",
       "      <td>https://s3-media4.fl.yelpcdn.com/bphoto/6kjoZH...</td>\n",
       "      <td>False</td>\n",
       "      <td>https://www.yelp.com/biz/general-public-house-...</td>\n",
       "      <td>234</td>\n",
       "      <td>[{'alias': 'bars', 'title': 'Bars'}, {'alias':...</td>\n",
       "      <td>4.0</td>\n",
       "      <td>{'latitude': 28.69843, 'longitude': -81.26168}</td>\n",
       "      <td>[delivery]</td>\n",
       "      <td>$$</td>\n",
       "      <td>{'address1': '156 Tuskawilla Rd', 'address2': ...</td>\n",
       "      <td>+14078909696</td>\n",
       "      <td>(407) 890-9696</td>\n",
       "      <td>1911.807684</td>\n",
       "    </tr>\n",
       "    <tr>\n",
       "      <th>2</th>\n",
       "      <td>pvwGB6dvjR_kqSbsrVTzhQ</td>\n",
       "      <td>fords-garage-oviedo-oviedo</td>\n",
       "      <td>Ford's Garage Oviedo</td>\n",
       "      <td>https://s3-media3.fl.yelpcdn.com/bphoto/LxbMgj...</td>\n",
       "      <td>False</td>\n",
       "      <td>https://www.yelp.com/biz/fords-garage-oviedo-o...</td>\n",
       "      <td>44</td>\n",
       "      <td>[{'alias': 'burgers', 'title': 'Burgers'}, {'a...</td>\n",
       "      <td>3.5</td>\n",
       "      <td>{'latitude': 28.65611, 'longitude': -81.20066}</td>\n",
       "      <td>[]</td>\n",
       "      <td>NaN</td>\n",
       "      <td>{'address1': '459 E Mitchell Hammock Rd', 'add...</td>\n",
       "      <td>+14072133673</td>\n",
       "      <td>(407) 213-3673</td>\n",
       "      <td>9460.446180</td>\n",
       "    </tr>\n",
       "    <tr>\n",
       "      <th>3</th>\n",
       "      <td>5bS_zCXfqzoiiEKL07_fJA</td>\n",
       "      <td>grattin-dog-altamonte-springs</td>\n",
       "      <td>Grattin Dog</td>\n",
       "      <td>https://s3-media2.fl.yelpcdn.com/bphoto/bqjQAy...</td>\n",
       "      <td>False</td>\n",
       "      <td>https://www.yelp.com/biz/grattin-dog-altamonte...</td>\n",
       "      <td>82</td>\n",
       "      <td>[{'alias': 'burgers', 'title': 'Burgers'}, {'a...</td>\n",
       "      <td>4.5</td>\n",
       "      <td>{'latitude': 28.662688, 'longitude': -81.357327}</td>\n",
       "      <td>[pickup, delivery]</td>\n",
       "      <td>$</td>\n",
       "      <td>{'address1': '1006 E Altamonte Dr', 'address2'...</td>\n",
       "      <td>+14079517267</td>\n",
       "      <td>(407) 951-7267</td>\n",
       "      <td>9401.407144</td>\n",
       "    </tr>\n",
       "    <tr>\n",
       "      <th>4</th>\n",
       "      <td>oF344ESz0ZbbAG4Aa7wfXw</td>\n",
       "      <td>build-my-burgers-orlando-2</td>\n",
       "      <td>Build My Burgers</td>\n",
       "      <td>https://s3-media1.fl.yelpcdn.com/bphoto/qcSR4X...</td>\n",
       "      <td>False</td>\n",
       "      <td>https://www.yelp.com/biz/build-my-burgers-orla...</td>\n",
       "      <td>147</td>\n",
       "      <td>[{'alias': 'newamerican', 'title': 'American (...</td>\n",
       "      <td>4.5</td>\n",
       "      <td>{'latitude': 28.598284, 'longitude': -81.22112}</td>\n",
       "      <td>[pickup, delivery]</td>\n",
       "      <td>NaN</td>\n",
       "      <td>{'address1': '3402 Technological Ave', 'addres...</td>\n",
       "      <td>+14079855495</td>\n",
       "      <td>(407) 985-5495</td>\n",
       "      <td>13485.449245</td>\n",
       "    </tr>\n",
       "  </tbody>\n",
       "</table>\n",
       "</div>"
      ],
      "text/plain": [
       "                       id                                              alias  \\\n",
       "0  6vtuq0T_Hlq6qsCWIpOpuQ  red-eyes-git-n-messy-smokehouse-and-tavern-win...   \n",
       "1  xGeQSE9PpMCi1BRaXEHnsQ              general-public-house-winter-springs-2   \n",
       "2  pvwGB6dvjR_kqSbsrVTzhQ                         fords-garage-oviedo-oviedo   \n",
       "3  5bS_zCXfqzoiiEKL07_fJA                      grattin-dog-altamonte-springs   \n",
       "4  oF344ESz0ZbbAG4Aa7wfXw                         build-my-burgers-orlando-2   \n",
       "\n",
       "                                        name  \\\n",
       "0  Red-Eye's Git N Messy Smokehouse & Tavern   \n",
       "1                       General Public House   \n",
       "2                       Ford's Garage Oviedo   \n",
       "3                                Grattin Dog   \n",
       "4                           Build My Burgers   \n",
       "\n",
       "                                           image_url  is_closed  \\\n",
       "0  https://s3-media1.fl.yelpcdn.com/bphoto/Ql2pSk...      False   \n",
       "1  https://s3-media4.fl.yelpcdn.com/bphoto/6kjoZH...      False   \n",
       "2  https://s3-media3.fl.yelpcdn.com/bphoto/LxbMgj...      False   \n",
       "3  https://s3-media2.fl.yelpcdn.com/bphoto/bqjQAy...      False   \n",
       "4  https://s3-media1.fl.yelpcdn.com/bphoto/qcSR4X...      False   \n",
       "\n",
       "                                                 url  review_count  \\\n",
       "0  https://www.yelp.com/biz/red-eyes-git-n-messy-...           158   \n",
       "1  https://www.yelp.com/biz/general-public-house-...           234   \n",
       "2  https://www.yelp.com/biz/fords-garage-oviedo-o...            44   \n",
       "3  https://www.yelp.com/biz/grattin-dog-altamonte...            82   \n",
       "4  https://www.yelp.com/biz/build-my-burgers-orla...           147   \n",
       "\n",
       "                                          categories  rating  \\\n",
       "0  [{'alias': 'sportsbars', 'title': 'Sports Bars...     4.5   \n",
       "1  [{'alias': 'bars', 'title': 'Bars'}, {'alias':...     4.0   \n",
       "2  [{'alias': 'burgers', 'title': 'Burgers'}, {'a...     3.5   \n",
       "3  [{'alias': 'burgers', 'title': 'Burgers'}, {'a...     4.5   \n",
       "4  [{'alias': 'newamerican', 'title': 'American (...     4.5   \n",
       "\n",
       "                                         coordinates        transactions  \\\n",
       "0  {'latitude': 28.7031155136773, 'longitude': -8...  [pickup, delivery]   \n",
       "1     {'latitude': 28.69843, 'longitude': -81.26168}          [delivery]   \n",
       "2     {'latitude': 28.65611, 'longitude': -81.20066}                  []   \n",
       "3   {'latitude': 28.662688, 'longitude': -81.357327}  [pickup, delivery]   \n",
       "4    {'latitude': 28.598284, 'longitude': -81.22112}  [pickup, delivery]   \n",
       "\n",
       "  price                                           location         phone  \\\n",
       "0    $$  {'address1': '855 E State Rd 434', 'address2':...  +14075427728   \n",
       "1    $$  {'address1': '156 Tuskawilla Rd', 'address2': ...  +14078909696   \n",
       "2   NaN  {'address1': '459 E Mitchell Hammock Rd', 'add...  +14072133673   \n",
       "3     $  {'address1': '1006 E Altamonte Dr', 'address2'...  +14079517267   \n",
       "4   NaN  {'address1': '3402 Technological Ave', 'addres...  +14079855495   \n",
       "\n",
       "    display_phone      distance  \n",
       "0  (407) 542-7728   1101.632324  \n",
       "1  (407) 890-9696   1911.807684  \n",
       "2  (407) 213-3673   9460.446180  \n",
       "3  (407) 951-7267   9401.407144  \n",
       "4  (407) 985-5495  13485.449245  "
      ]
     },
     "metadata": {},
     "output_type": "display_data"
    },
    {
     "data": {
      "text/html": [
       "<div>\n",
       "<style scoped>\n",
       "    .dataframe tbody tr th:only-of-type {\n",
       "        vertical-align: middle;\n",
       "    }\n",
       "\n",
       "    .dataframe tbody tr th {\n",
       "        vertical-align: top;\n",
       "    }\n",
       "\n",
       "    .dataframe thead th {\n",
       "        text-align: right;\n",
       "    }\n",
       "</style>\n",
       "<table border=\"1\" class=\"dataframe\">\n",
       "  <thead>\n",
       "    <tr style=\"text-align: right;\">\n",
       "      <th></th>\n",
       "      <th>id</th>\n",
       "      <th>alias</th>\n",
       "      <th>name</th>\n",
       "      <th>image_url</th>\n",
       "      <th>is_closed</th>\n",
       "      <th>url</th>\n",
       "      <th>review_count</th>\n",
       "      <th>categories</th>\n",
       "      <th>rating</th>\n",
       "      <th>coordinates</th>\n",
       "      <th>transactions</th>\n",
       "      <th>price</th>\n",
       "      <th>location</th>\n",
       "      <th>phone</th>\n",
       "      <th>display_phone</th>\n",
       "      <th>distance</th>\n",
       "    </tr>\n",
       "  </thead>\n",
       "  <tbody>\n",
       "    <tr>\n",
       "      <th>869</th>\n",
       "      <td>7XtbOun49vxy-BIvIwKtjw</td>\n",
       "      <td>ny-pizza-baby-apopka-2</td>\n",
       "      <td>NY Pizza Baby</td>\n",
       "      <td>https://s3-media1.fl.yelpcdn.com/bphoto/QP190_...</td>\n",
       "      <td>False</td>\n",
       "      <td>https://www.yelp.com/biz/ny-pizza-baby-apopka-...</td>\n",
       "      <td>108</td>\n",
       "      <td>[{'alias': 'pizza', 'title': 'Pizza'}, {'alias...</td>\n",
       "      <td>2.5</td>\n",
       "      <td>{'latitude': 28.67363, 'longitude': -81.47968}</td>\n",
       "      <td>[delivery, pickup]</td>\n",
       "      <td>$$</td>\n",
       "      <td>{'address1': '380 Semoran Commerce Pl', 'addre...</td>\n",
       "      <td>+14074647157</td>\n",
       "      <td>(407) 464-7157</td>\n",
       "      <td>20175.840381</td>\n",
       "    </tr>\n",
       "    <tr>\n",
       "      <th>870</th>\n",
       "      <td>MGErJxUfrUyUQri8ntcDkg</td>\n",
       "      <td>red-lobster-orlando-2</td>\n",
       "      <td>Red Lobster</td>\n",
       "      <td>https://s3-media2.fl.yelpcdn.com/bphoto/oiYDmr...</td>\n",
       "      <td>False</td>\n",
       "      <td>https://www.yelp.com/biz/red-lobster-orlando-2...</td>\n",
       "      <td>107</td>\n",
       "      <td>[{'alias': 'seafood', 'title': 'Seafood'}, {'a...</td>\n",
       "      <td>3.0</td>\n",
       "      <td>{'latitude': 28.55288067, 'longitude': -81.339...</td>\n",
       "      <td>[delivery, pickup]</td>\n",
       "      <td>$$</td>\n",
       "      <td>{'address1': '3552 E Colonial Dr', 'address2':...</td>\n",
       "      <td>+14078963657</td>\n",
       "      <td>(407) 896-3657</td>\n",
       "      <td>18443.647605</td>\n",
       "    </tr>\n",
       "    <tr>\n",
       "      <th>871</th>\n",
       "      <td>YYVftao6UDHDzqeJn0SAaw</td>\n",
       "      <td>red-lobster-orlando-6</td>\n",
       "      <td>Red Lobster</td>\n",
       "      <td>https://s3-media2.fl.yelpcdn.com/bphoto/odbo6d...</td>\n",
       "      <td>False</td>\n",
       "      <td>https://www.yelp.com/biz/red-lobster-orlando-6...</td>\n",
       "      <td>115</td>\n",
       "      <td>[{'alias': 'seafood', 'title': 'Seafood'}, {'a...</td>\n",
       "      <td>3.0</td>\n",
       "      <td>{'latitude': 28.55454509, 'longitude': -81.205...</td>\n",
       "      <td>[delivery, pickup]</td>\n",
       "      <td>$$</td>\n",
       "      <td>{'address1': '617 N Alafaya Trl', 'address2': ...</td>\n",
       "      <td>+14072494141</td>\n",
       "      <td>(407) 249-4141</td>\n",
       "      <td>18550.793795</td>\n",
       "    </tr>\n",
       "    <tr>\n",
       "      <th>872</th>\n",
       "      <td>vXaumClW2dQx6w3QlDHx4w</td>\n",
       "      <td>chipotle-mexican-grill-orlando</td>\n",
       "      <td>Chipotle Mexican Grill</td>\n",
       "      <td>https://s3-media3.fl.yelpcdn.com/bphoto/j007hj...</td>\n",
       "      <td>False</td>\n",
       "      <td>https://www.yelp.com/biz/chipotle-mexican-gril...</td>\n",
       "      <td>248</td>\n",
       "      <td>[{'alias': 'mexican', 'title': 'Mexican'}, {'a...</td>\n",
       "      <td>2.0</td>\n",
       "      <td>{'latitude': 28.5535264892762, 'longitude': -8...</td>\n",
       "      <td>[delivery, pickup]</td>\n",
       "      <td>$</td>\n",
       "      <td>{'address1': '464 N Alafaya Trl', 'address2': ...</td>\n",
       "      <td>+14072080778</td>\n",
       "      <td>(407) 208-0778</td>\n",
       "      <td>18621.936119</td>\n",
       "    </tr>\n",
       "    <tr>\n",
       "      <th>873</th>\n",
       "      <td>7RbWIxU8u4YjiGWZYP25ZQ</td>\n",
       "      <td>chick-fil-a-orlando-13</td>\n",
       "      <td>Chick-fil-A</td>\n",
       "      <td>https://s3-media3.fl.yelpcdn.com/bphoto/fvqEi8...</td>\n",
       "      <td>False</td>\n",
       "      <td>https://www.yelp.com/biz/chick-fil-a-orlando-1...</td>\n",
       "      <td>109</td>\n",
       "      <td>[{'alias': 'hotdogs', 'title': 'Fast Food'}, {...</td>\n",
       "      <td>3.5</td>\n",
       "      <td>{'latitude': 28.5557522, 'longitude': -81.2062...</td>\n",
       "      <td>[]</td>\n",
       "      <td>$</td>\n",
       "      <td>{'address1': '633 N Alafaya Trl', 'address2': ...</td>\n",
       "      <td>+14072818897</td>\n",
       "      <td>(407) 281-8897</td>\n",
       "      <td>18404.544581</td>\n",
       "    </tr>\n",
       "  </tbody>\n",
       "</table>\n",
       "</div>"
      ],
      "text/plain": [
       "                         id                           alias  \\\n",
       "869  7XtbOun49vxy-BIvIwKtjw          ny-pizza-baby-apopka-2   \n",
       "870  MGErJxUfrUyUQri8ntcDkg           red-lobster-orlando-2   \n",
       "871  YYVftao6UDHDzqeJn0SAaw           red-lobster-orlando-6   \n",
       "872  vXaumClW2dQx6w3QlDHx4w  chipotle-mexican-grill-orlando   \n",
       "873  7RbWIxU8u4YjiGWZYP25ZQ          chick-fil-a-orlando-13   \n",
       "\n",
       "                       name  \\\n",
       "869           NY Pizza Baby   \n",
       "870             Red Lobster   \n",
       "871             Red Lobster   \n",
       "872  Chipotle Mexican Grill   \n",
       "873             Chick-fil-A   \n",
       "\n",
       "                                             image_url  is_closed  \\\n",
       "869  https://s3-media1.fl.yelpcdn.com/bphoto/QP190_...      False   \n",
       "870  https://s3-media2.fl.yelpcdn.com/bphoto/oiYDmr...      False   \n",
       "871  https://s3-media2.fl.yelpcdn.com/bphoto/odbo6d...      False   \n",
       "872  https://s3-media3.fl.yelpcdn.com/bphoto/j007hj...      False   \n",
       "873  https://s3-media3.fl.yelpcdn.com/bphoto/fvqEi8...      False   \n",
       "\n",
       "                                                   url  review_count  \\\n",
       "869  https://www.yelp.com/biz/ny-pizza-baby-apopka-...           108   \n",
       "870  https://www.yelp.com/biz/red-lobster-orlando-2...           107   \n",
       "871  https://www.yelp.com/biz/red-lobster-orlando-6...           115   \n",
       "872  https://www.yelp.com/biz/chipotle-mexican-gril...           248   \n",
       "873  https://www.yelp.com/biz/chick-fil-a-orlando-1...           109   \n",
       "\n",
       "                                            categories  rating  \\\n",
       "869  [{'alias': 'pizza', 'title': 'Pizza'}, {'alias...     2.5   \n",
       "870  [{'alias': 'seafood', 'title': 'Seafood'}, {'a...     3.0   \n",
       "871  [{'alias': 'seafood', 'title': 'Seafood'}, {'a...     3.0   \n",
       "872  [{'alias': 'mexican', 'title': 'Mexican'}, {'a...     2.0   \n",
       "873  [{'alias': 'hotdogs', 'title': 'Fast Food'}, {...     3.5   \n",
       "\n",
       "                                           coordinates        transactions  \\\n",
       "869     {'latitude': 28.67363, 'longitude': -81.47968}  [delivery, pickup]   \n",
       "870  {'latitude': 28.55288067, 'longitude': -81.339...  [delivery, pickup]   \n",
       "871  {'latitude': 28.55454509, 'longitude': -81.205...  [delivery, pickup]   \n",
       "872  {'latitude': 28.5535264892762, 'longitude': -8...  [delivery, pickup]   \n",
       "873  {'latitude': 28.5557522, 'longitude': -81.2062...                  []   \n",
       "\n",
       "    price                                           location         phone  \\\n",
       "869    $$  {'address1': '380 Semoran Commerce Pl', 'addre...  +14074647157   \n",
       "870    $$  {'address1': '3552 E Colonial Dr', 'address2':...  +14078963657   \n",
       "871    $$  {'address1': '617 N Alafaya Trl', 'address2': ...  +14072494141   \n",
       "872     $  {'address1': '464 N Alafaya Trl', 'address2': ...  +14072080778   \n",
       "873     $  {'address1': '633 N Alafaya Trl', 'address2': ...  +14072818897   \n",
       "\n",
       "      display_phone      distance  \n",
       "869  (407) 464-7157  20175.840381  \n",
       "870  (407) 896-3657  18443.647605  \n",
       "871  (407) 249-4141  18550.793795  \n",
       "872  (407) 208-0778  18621.936119  \n",
       "873  (407) 281-8897  18404.544581  "
      ]
     },
     "metadata": {},
     "output_type": "display_data"
    }
   ],
   "source": [
    "# Converting .json to DF\n",
    "final_df = pd.read_json(JSON_FILE)\n",
    "display(final_df.head(), final_df.tail())"
   ]
  },
  {
   "cell_type": "code",
   "execution_count": 18,
   "id": "0d79b6aa",
   "metadata": {},
   "outputs": [
    {
     "data": {
      "text/plain": [
       "0"
      ]
     },
     "execution_count": 18,
     "metadata": {},
     "output_type": "execute_result"
    }
   ],
   "source": [
    "# checking for duplicate ID's \n",
    "final_df.duplicated(subset='id').sum()"
   ]
  },
  {
   "cell_type": "code",
   "execution_count": 19,
   "id": "bc89b845",
   "metadata": {},
   "outputs": [],
   "source": [
    "# save the final results to a compressed csv\n",
    "final_df.to_csv('Data/final_results_NY_pizza.csv.gz', compression='gzip',index=False)"
   ]
  }
 ],
 "metadata": {
  "kernelspec": {
   "display_name": "Python (dojo-env)",
   "language": "python",
   "name": "dojo-env"
  },
  "language_info": {
   "codemirror_mode": {
    "name": "ipython",
    "version": 3
   },
   "file_extension": ".py",
   "mimetype": "text/x-python",
   "name": "python",
   "nbconvert_exporter": "python",
   "pygments_lexer": "ipython3",
   "version": "3.9.15"
  },
  "toc": {
   "base_numbering": 1,
   "nav_menu": {},
   "number_sections": false,
   "sideBar": true,
   "skip_h1_title": false,
   "title_cell": "Table of Contents",
   "title_sidebar": "Contents",
   "toc_cell": false,
   "toc_position": {},
   "toc_section_display": true,
   "toc_window_display": false
  }
 },
 "nbformat": 4,
 "nbformat_minor": 5
}
